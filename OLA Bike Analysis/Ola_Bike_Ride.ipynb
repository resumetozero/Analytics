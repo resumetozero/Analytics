{
 "cells": [
  {
   "cell_type": "markdown",
   "metadata": {
    "id": "6fNW1Aqd84z2"
   },
   "source": [
    "# Ola Bike Ride Request Demand Forecast"
   ]
  },
  {
   "cell_type": "code",
   "execution_count": 6,
   "metadata": {
    "id": "TsFVjAyT84z4"
   },
   "outputs": [],
   "source": [
    "import numpy as np\n",
    "import pandas as pd\n",
    "import matplotlib.pyplot as plt\n",
    "import seaborn as sns\n",
    "%matplotlib inline\n",
    "from datetime import datetime\n",
    "from datetime import date\n",
    "import calendar"
   ]
  },
  {
   "cell_type": "code",
   "execution_count": 7,
   "metadata": {
    "colab": {
     "base_uri": "https://localhost:8080/",
     "height": 73
    },
    "id": "mLkS0aqB9ANa",
    "outputId": "e89e0da1-a197-418a-89e6-0dd618f37e4b"
   },
   "outputs": [
    {
     "data": {
      "application/vnd.jupyter.widget-view+json": {
       "model_id": "a5594d527d1440aeb2067c3bfb31f4ec",
       "version_major": 2,
       "version_minor": 0
      },
      "text/plain": [
       "FileUpload(value={}, accept='.csv,.xlsx,.xls,.json', description='Upload')"
      ]
     },
     "metadata": {},
     "output_type": "display_data"
    }
   ],
   "source": [
    "# from google.colab import files\n",
    "# uploaded = files.upload()\n",
    "import ipywidgets as widgets\n",
    "from IPython.display import display\n",
    "import pandas as pd\n",
    "import io\n",
    "import os\n",
    "\n",
    "# Create a file upload widget\n",
    "uploader = widgets.FileUpload(\n",
    "    accept='.csv,.xlsx,.xls,.json',  # Accept CSV, Excel, and JSON files\n",
    "    multiple=False  # Set to True if you need multiple files\n",
    ")\n",
    "\n",
    "# Display the widget\n",
    "display(uploader)\n",
    "\n",
    "# Function to process uploaded file\n",
    "def handle_upload(change):\n",
    "    for filename, file_info in uploader.value.items():\n",
    "        print(f\"Uploaded file: {filename}\")\n",
    "        try:\n",
    "            content = file_info['content']\n",
    "            # Determine file type based on extension\n",
    "            file_extension = os.path.splitext(filename)[1].lower()\n",
    "            \n",
    "            if file_extension == '.csv':\n",
    "                df = pd.read_csv(io.BytesIO(content))\n",
    "            elif file_extension in ['.xlsx', '.xls']:\n",
    "                df = pd.read_excel(io.BytesIO(content))\n",
    "            elif file_extension == '.json':\n",
    "                df = pd.read_json(io.BytesIO(content))\n",
    "            else:\n",
    "                print(f\"Unsupported file type: {file_extension}\")\n",
    "                return\n",
    "            \n",
    "            print(\"Dataset Preview:\")\n",
    "            print(df.head())\n",
    "            # Save the file locally (optional)\n",
    "            with open(filename, 'wb') as f:\n",
    "                f.write(content)\n",
    "            # Assign to global variable for further use\n",
    "            global dataset\n",
    "            dataset = df\n",
    "            # Example: Initial preprocessing steps\n",
    "            print(\"\\nNull Values:\")\n",
    "            print(dataset.isnull().sum())\n",
    "            # Example: Convert datetime column (adjust column name as needed)\n",
    "            if 'datetime' in dataset.columns:\n",
    "                dataset['datetime'] = pd.to_datetime(dataset['datetime'])\n",
    "                print(\"\\nDatetime column converted to:\", dataset['datetime'].dtype)\n",
    "        except Exception as e:\n",
    "            print(f\"Error loading file: {e}\")\n",
    "\n",
    "# Bind the function to the uploader\n",
    "uploader.observe(handle_upload, names='value')\n",
    "\n"
   ]
  },
  {
   "cell_type": "code",
   "execution_count": 4,
   "metadata": {},
   "outputs": [
    {
     "ename": "SyntaxError",
     "evalue": "invalid syntax (4053252937.py, line 1)",
     "output_type": "error",
     "traceback": [
      "\u001b[0;36m  Cell \u001b[0;32mIn[4], line 1\u001b[0;36m\u001b[0m\n\u001b[0;31m    jupyter nbextension enable --py widgetsnbextension --sys-prefix\u001b[0m\n\u001b[0m            ^\u001b[0m\n\u001b[0;31mSyntaxError\u001b[0m\u001b[0;31m:\u001b[0m invalid syntax\n"
     ]
    }
   ],
   "source": []
  },
  {
   "cell_type": "code",
   "execution_count": null,
   "metadata": {
    "id": "zmW91P0g84z4"
   },
   "outputs": [],
   "source": [
    "train_df = pd.read_csv('train.csv')"
   ]
  },
  {
   "cell_type": "code",
   "execution_count": null,
   "metadata": {
    "colab": {
     "base_uri": "https://localhost:8080/",
     "height": 423
    },
    "id": "z9eQtGi084z5",
    "outputId": "f8696449-1483-4151-90df-4d7ee7592c71"
   },
   "outputs": [],
   "source": [
    "# train_df"
   ]
  },
  {
   "cell_type": "code",
   "execution_count": null,
   "metadata": {
    "colab": {
     "base_uri": "https://localhost:8080/"
    },
    "id": "mTmdHIlH84z5",
    "outputId": "485bda82-3a9a-4b11-843e-f7c0f05a2b76"
   },
   "outputs": [],
   "source": [
    "train_df.shape"
   ]
  },
  {
   "cell_type": "code",
   "execution_count": null,
   "metadata": {
    "colab": {
     "base_uri": "https://localhost:8080/"
    },
    "id": "JbWGxeum84z6",
    "outputId": "c3f5511b-305f-4cac-eeec-8f09127c5054"
   },
   "outputs": [],
   "source": [
    "train_df.info()"
   ]
  },
  {
   "cell_type": "markdown",
   "metadata": {
    "id": "9NL-_HHc84z6"
   },
   "source": [
    "### Dealing with Null Values"
   ]
  },
  {
   "cell_type": "code",
   "execution_count": null,
   "metadata": {
    "colab": {
     "base_uri": "https://localhost:8080/"
    },
    "id": "aSu7kWZ584z6",
    "outputId": "c956e1d0-93d4-414d-f9cf-6b7bffd576fc"
   },
   "outputs": [],
   "source": [
    "train_df.isnull().sum()"
   ]
  },
  {
   "cell_type": "code",
   "execution_count": null,
   "metadata": {
    "colab": {
     "base_uri": "https://localhost:8080/"
    },
    "id": "EfwMC1eF84z6",
    "outputId": "bdbdd248-ee28-44d9-8f76-e6db0f73aeda"
   },
   "outputs": [],
   "source": [
    "train_df.columns"
   ]
  },
  {
   "cell_type": "code",
   "execution_count": null,
   "metadata": {
    "colab": {
     "base_uri": "https://localhost:8080/"
    },
    "id": "NaSNp5U984z7",
    "outputId": "2631a878-2c0f-4625-cad2-a43501fb0b6c"
   },
   "outputs": [],
   "source": [
    "train_df.dtypes"
   ]
  },
  {
   "cell_type": "markdown",
   "metadata": {
    "id": "9uMaGaBB84z7"
   },
   "source": [
    "### Changing into datetime format"
   ]
  },
  {
   "cell_type": "code",
   "execution_count": null,
   "metadata": {
    "colab": {
     "base_uri": "https://localhost:8080/"
    },
    "id": "hr-T0l1h84z7",
    "outputId": "b172f554-c445-4e4b-b223-8b03758ea9f7"
   },
   "outputs": [],
   "source": [
    "# Define your function to convert a column to datetime\n",
    "def change_into_datetime(col):\n",
    "    train_df[col] = pd.to_datetime(train_df[col], format=\"%d-%m-%Y %H:%M\")\n",
    "\n",
    "# Assuming `train_df` is your DataFrame\n",
    "# Call the function for the 'datetime' column\n",
    "change_into_datetime('datetime')\n",
    "\n",
    "# Check if the conversion is successful\n",
    "print(train_df['datetime'].head())\n"
   ]
  },
  {
   "cell_type": "code",
   "execution_count": null,
   "metadata": {
    "id": "hZZbI7wP84z7"
   },
   "outputs": [],
   "source": [
    "train_df['year'] = train_df['datetime'].dt.year\n",
    "train_df['month'] = train_df['datetime'].dt.month\n",
    "train_df['date'] = train_df['datetime'].dt.date\n",
    "train_df['hour'] = train_df['datetime'].dt.hour\n",
    "train_df['day of the week'] = train_df['datetime'].dt.dayofweek"
   ]
  },
  {
   "cell_type": "code",
   "execution_count": null,
   "metadata": {
    "colab": {
     "base_uri": "https://localhost:8080/"
    },
    "id": "yTgo5jd984z7",
    "outputId": "6d419c63-3014-4a79-d5a4-80c08eb48c5d"
   },
   "outputs": [],
   "source": [
    "train_df['year'].unique()"
   ]
  },
  {
   "cell_type": "markdown",
   "metadata": {
    "id": "HvOMcmHr84z8"
   },
   "source": [
    "### Mapping key values to Dictionary"
   ]
  },
  {
   "cell_type": "code",
   "execution_count": null,
   "metadata": {
    "id": "m-QlooIZ84z8"
   },
   "outputs": [],
   "source": [
    "dict = {2011 :'1', 2012 :'2'}"
   ]
  },
  {
   "cell_type": "code",
   "execution_count": null,
   "metadata": {
    "colab": {
     "base_uri": "https://localhost:8080/"
    },
    "id": "0e_ngbDX84z8",
    "outputId": "d7f8c583-adcc-440d-be93-b3c9f1bdfdb0"
   },
   "outputs": [],
   "source": [
    "train_df['year'] = train_df['year'].map(dict)\n",
    "train_df['year'].unique()"
   ]
  },
  {
   "cell_type": "code",
   "execution_count": null,
   "metadata": {
    "id": "_2PY5NYq84z8"
   },
   "outputs": [],
   "source": [
    "train_df.drop('datetime',axis=1,inplace=True)"
   ]
  },
  {
   "cell_type": "code",
   "execution_count": null,
   "metadata": {
    "colab": {
     "base_uri": "https://localhost:8080/",
     "height": 206
    },
    "id": "gysoyH7c84z8",
    "outputId": "bda2ccff-e8f5-4e3c-b2c1-612fe528e6c5"
   },
   "outputs": [],
   "source": [
    "train_df.head()"
   ]
  },
  {
   "cell_type": "markdown",
   "metadata": {
    "id": "NbpBTCWx84z8"
   },
   "source": [
    "## Performing Exploratory Data Analysis"
   ]
  },
  {
   "cell_type": "code",
   "execution_count": null,
   "metadata": {
    "colab": {
     "base_uri": "https://localhost:8080/",
     "height": 337
    },
    "id": "eqblbWHp84z9",
    "outputId": "a8ec8cf5-669f-440c-e8f6-5d84f052d54c"
   },
   "outputs": [],
   "source": [
    "train_df.drop('count',axis=1).describe()"
   ]
  },
  {
   "cell_type": "code",
   "execution_count": null,
   "metadata": {
    "colab": {
     "base_uri": "https://localhost:8080/",
     "height": 1000
    },
    "id": "P-saBeUC84z9",
    "outputId": "324704ba-184b-4fb5-c95d-e1904798441d"
   },
   "outputs": [],
   "source": [
    "sns.pairplot(train_df);"
   ]
  },
  {
   "cell_type": "markdown",
   "metadata": {
    "id": "_2NIbcpO84z9"
   },
   "source": [
    "### Distribution of target variable 'count'"
   ]
  },
  {
   "cell_type": "code",
   "execution_count": null,
   "metadata": {
    "colab": {
     "base_uri": "https://localhost:8080/",
     "height": 648
    },
    "id": "3Fw7tFzD84z9",
    "outputId": "34ae5767-d758-4777-d2f2-d38a467bad2b"
   },
   "outputs": [],
   "source": [
    "sns.distplot(train_df['count']);"
   ]
  },
  {
   "cell_type": "markdown",
   "metadata": {
    "id": "eCPV7cmf84z9"
   },
   "source": [
    "Inference - The target variable is right skewed and hence we have to take the log of the variable to check if the distribution becomes normal or not."
   ]
  },
  {
   "cell_type": "code",
   "execution_count": null,
   "metadata": {
    "colab": {
     "base_uri": "https://localhost:8080/",
     "height": 648
    },
    "id": "kuhulAJe84z9",
    "outputId": "3c0b195d-fdd3-48fe-879a-4d1488afd14a"
   },
   "outputs": [],
   "source": [
    "sns.distplot(np.log(train_df['count']));"
   ]
  },
  {
   "cell_type": "markdown",
   "metadata": {
    "id": "TZh7da5L84z9"
   },
   "source": [
    "### Visualizing the Demand using multiple variables"
   ]
  },
  {
   "cell_type": "markdown",
   "metadata": {
    "id": "-XGHg-e784z9"
   },
   "source": [
    "###  Demand per day of the week"
   ]
  },
  {
   "cell_type": "code",
   "execution_count": null,
   "metadata": {
    "colab": {
     "base_uri": "https://localhost:8080/",
     "height": 555
    },
    "id": "dwY67q5g84z-",
    "outputId": "a2d8e68d-91d8-45ad-f42e-cb8159e7e32b"
   },
   "outputs": [],
   "source": [
    "plt.figure(figsize=(10,5))\n",
    "sns.barplot(data=train_df, x = 'day of the week', y = 'count', palette='rainbow');"
   ]
  },
  {
   "cell_type": "markdown",
   "metadata": {
    "id": "tJ8SRR7z84z-"
   },
   "source": [
    "Inference -  demand of bike rentals were almost same for each day of the week. So this feature will not be useful in predicting the demand therefore we will have to drop this feature."
   ]
  },
  {
   "cell_type": "markdown",
   "metadata": {
    "id": "rm0Uezva84z-"
   },
   "source": [
    "### Demand per month"
   ]
  },
  {
   "cell_type": "code",
   "execution_count": null,
   "metadata": {
    "colab": {
     "base_uri": "https://localhost:8080/",
     "height": 555
    },
    "id": "VvNIJZfA84z-",
    "outputId": "d6721fdf-c7af-4ac3-a12e-96fe41a34f20"
   },
   "outputs": [],
   "source": [
    "plt.figure(figsize=(10,5))\n",
    "sns.barplot(data=train_df, x='month', y = 'count', palette = 'rainbow');"
   ]
  },
  {
   "cell_type": "markdown",
   "metadata": {
    "id": "TX671Cq_84z-"
   },
   "source": [
    "Inference - Demand for bike rentals was high during the months of summer and the demand drops during the months of winter."
   ]
  },
  {
   "cell_type": "markdown",
   "metadata": {
    "id": "z-7m3U9W84z-"
   },
   "source": [
    "### Year Month Demand"
   ]
  },
  {
   "cell_type": "code",
   "execution_count": null,
   "metadata": {
    "id": "U2Im04Xy84z-"
   },
   "outputs": [],
   "source": [
    "group_year_month = train_df.groupby(['year','month'])\n",
    "average_year_month = group_year_month['count'].mean()"
   ]
  },
  {
   "cell_type": "code",
   "execution_count": null,
   "metadata": {
    "colab": {
     "base_uri": "https://localhost:8080/",
     "height": 472
    },
    "id": "JEt9Movy84z-",
    "outputId": "6b04eee4-3863-4e39-e2f9-319d05a87e73"
   },
   "outputs": [],
   "source": [
    "for year in average_year_month.index.levels[0]:\n",
    "    plt.plot(average_year_month[year].index,average_year_month[year],label=year)\n",
    "\n",
    "plt.legend()\n",
    "plt.xlabel('Month')\n",
    "plt.ylabel('Count')\n",
    "plt.grid(True)\n",
    "plt.title('Average Monthly Rental Count for 2011,2012')\n",
    "plt.show()"
   ]
  },
  {
   "cell_type": "markdown",
   "metadata": {
    "id": "3mBnxKn184z_"
   },
   "source": [
    "### Demand per hour"
   ]
  },
  {
   "cell_type": "code",
   "execution_count": null,
   "metadata": {
    "colab": {
     "base_uri": "https://localhost:8080/",
     "height": 632
    },
    "id": "3p9y_M6y84z_",
    "outputId": "6bafe121-bf2e-4d7e-fadb-4cf4dc057169"
   },
   "outputs": [],
   "source": [
    "plt.figure(figsize=(12,6))\n",
    "sns.barplot(data = train_df, x = 'hour', y = 'count', palette = 'rainbow');"
   ]
  },
  {
   "cell_type": "markdown",
   "metadata": {
    "id": "LoywUX9o840G"
   },
   "source": [
    "Inference - Demand for bike rentals were high during the office hours and it was low during the non-working hours as it might be possible that most of the people use the bike rental services to reach their office premises or leave their premises during these hours."
   ]
  },
  {
   "cell_type": "markdown",
   "metadata": {
    "id": "tzxMFWPa840G"
   },
   "source": [
    "### Year Hour Demand"
   ]
  },
  {
   "cell_type": "code",
   "execution_count": null,
   "metadata": {
    "id": "wqzYiChV840G"
   },
   "outputs": [],
   "source": [
    "group_year_hour = train_df.groupby(['year','hour'])\n",
    "average_year_hour = group_year_hour['count'].mean()"
   ]
  },
  {
   "cell_type": "code",
   "execution_count": null,
   "metadata": {
    "colab": {
     "base_uri": "https://localhost:8080/",
     "height": 472
    },
    "id": "O_T6iSoB840G",
    "outputId": "2826b69f-9789-40d6-fba7-32be51b99a4d"
   },
   "outputs": [],
   "source": [
    "for year in average_year_hour.index.levels[0]:\n",
    "    plt.plot(average_year_hour[year].index,average_year_hour[year],label=year)\n",
    "\n",
    "plt.legend()\n",
    "plt.xlabel('Month')\n",
    "plt.ylabel('Count')\n",
    "plt.grid(True)\n",
    "plt.title('Average Hourly Rental Count for 2011,2012')\n",
    "plt.show()"
   ]
  },
  {
   "cell_type": "markdown",
   "metadata": {
    "id": "Cn-aaMRs840H"
   },
   "source": [
    "### Average Hourly Count"
   ]
  },
  {
   "cell_type": "code",
   "execution_count": null,
   "metadata": {
    "id": "lENTJjoh840H"
   },
   "outputs": [],
   "source": [
    "group_hour = train_df.groupby(['hour'])\n",
    "average_by_hour = group_hour['count'].mean()"
   ]
  },
  {
   "cell_type": "code",
   "execution_count": null,
   "metadata": {
    "colab": {
     "base_uri": "https://localhost:8080/",
     "height": 472
    },
    "id": "cxb_p3E2840H",
    "outputId": "1569a5b1-f034-4739-db74-3fd2ef927abb"
   },
   "outputs": [],
   "source": [
    "plt.plot(average_by_hour.index,average_by_hour)\n",
    "plt.xlabel('Date')\n",
    "plt.ylabel('Rental Count')\n",
    "plt.xticks(np.arange(24))\n",
    "plt.grid(True)\n",
    "plt.title('Average Hourly Rental Count')\n",
    "plt.show()"
   ]
  },
  {
   "cell_type": "markdown",
   "metadata": {
    "id": "JncGK-yE840H"
   },
   "source": [
    "### Demand per season"
   ]
  },
  {
   "cell_type": "code",
   "execution_count": null,
   "metadata": {
    "colab": {
     "base_uri": "https://localhost:8080/",
     "height": 479
    },
    "id": "8eWnxiTm840H",
    "outputId": "c97da23e-a007-452a-bb0e-61475c43bd3c"
   },
   "outputs": [],
   "source": [
    "plt.figure(figsize = (8,4))\n",
    "sns.barplot(data = train_df, x = 'season', y = 'count', palette = 'rainbow');"
   ]
  },
  {
   "cell_type": "markdown",
   "metadata": {
    "id": "AHZv6XGw840H"
   },
   "source": [
    "Inference - Demand was high during the summer and fall seasons while it drops during winter and spring season as the weather during these seasons might not be suitable for bike rentals."
   ]
  },
  {
   "cell_type": "markdown",
   "metadata": {
    "id": "S8DO3zAP840H"
   },
   "source": [
    "### Demand as per holidays"
   ]
  },
  {
   "cell_type": "code",
   "execution_count": null,
   "metadata": {
    "colab": {
     "base_uri": "https://localhost:8080/",
     "height": 632
    },
    "id": "HyIiqDf2840I",
    "outputId": "0cc7b2c0-e386-4387-eb11-69b56923a0f7"
   },
   "outputs": [],
   "source": [
    "plt.figure(figsize=(6,6))\n",
    "sns.barplot(data = train_df, x = 'holiday', y = 'count', palette = 'rainbow');"
   ]
  },
  {
   "cell_type": "markdown",
   "metadata": {
    "id": "fMbLt9lx840I"
   },
   "source": [
    "Inference - Demand was high during working days and low during holidays."
   ]
  },
  {
   "cell_type": "markdown",
   "metadata": {
    "id": "c3F9xQra840I"
   },
   "source": [
    "### Demand on working days"
   ]
  },
  {
   "cell_type": "code",
   "execution_count": null,
   "metadata": {
    "colab": {
     "base_uri": "https://localhost:8080/",
     "height": 388
    },
    "id": "BhLEa72X840I",
    "outputId": "e8c0a8e0-dbea-44b1-901d-843d6e68b3c2"
   },
   "outputs": [],
   "source": [
    "plt.figure(figsize=(6,4))\n",
    "sns.barplot(data = train_df, x = 'workingday', y = 'count');"
   ]
  },
  {
   "cell_type": "markdown",
   "metadata": {
    "id": "EkOs1Ixg840I"
   },
   "source": [
    "Inference - It doesn't affect the demand much as it remains almost the same both the time, therefore we will have to drop this column."
   ]
  },
  {
   "cell_type": "markdown",
   "metadata": {
    "id": "c0XK_VQj840I"
   },
   "source": [
    "### Working day Hour Demand"
   ]
  },
  {
   "cell_type": "code",
   "execution_count": null,
   "metadata": {
    "id": "uB0ePiC1840I"
   },
   "outputs": [],
   "source": [
    "group_workingday_hour = train_df.groupby(['workingday','hour'])\n",
    "average_workingday_hour = group_workingday_hour['count'].mean()"
   ]
  },
  {
   "cell_type": "code",
   "execution_count": null,
   "metadata": {
    "colab": {
     "base_uri": "https://localhost:8080/",
     "height": 472
    },
    "id": "iXcngkGx840J",
    "outputId": "17614554-4658-457c-ff01-80f0fb50880c"
   },
   "outputs": [],
   "source": [
    "for workingday in average_workingday_hour.index.levels[0]:\n",
    "    plt.plot(average_workingday_hour[workingday].index,average_workingday_hour[workingday],label=workingday)\n",
    "\n",
    "plt.legend()\n",
    "plt.xlabel('Hour')\n",
    "plt.ylabel('Count')\n",
    "plt.xticks(np.arange(24))\n",
    "plt.grid(True)\n",
    "plt.title('Average Hourly Rental Count for by Working Day')\n",
    "plt.show()"
   ]
  },
  {
   "cell_type": "markdown",
   "metadata": {
    "id": "K8RMFsDD840J"
   },
   "source": [
    "### Visualization of the continuous varibles using Histogram"
   ]
  },
  {
   "cell_type": "markdown",
   "metadata": {
    "id": "0VV37lOn840J"
   },
   "source": [
    "###### Continuous features - temp, atemp, humidity, windspeed, count"
   ]
  },
  {
   "cell_type": "code",
   "execution_count": null,
   "metadata": {
    "colab": {
     "base_uri": "https://localhost:8080/",
     "height": 853
    },
    "id": "731X_9u6840J",
    "outputId": "4ff657fc-80da-4c38-e0c2-b7fe1324a982"
   },
   "outputs": [],
   "source": [
    "train_df.temp.unique()\n",
    "fig,axes=plt.subplots(2,2)\n",
    "axes[0,0].hist(x=\"temp\",data=train_df,edgecolor=\"black\",linewidth=2,color='#a0e0b6')\n",
    "axes[0,0].set_title(\"Variation of temp\")\n",
    "axes[0,1].hist(x=\"atemp\",data=train_df,edgecolor=\"black\",linewidth=2,color='#85b98d')\n",
    "axes[0,1].set_title(\"Variation of atemp\")\n",
    "axes[1,0].hist(x=\"windspeed\",data=train_df,edgecolor=\"black\",linewidth=2,color='#3e936e')\n",
    "axes[1,0].set_title(\"Variation of windspeed\")\n",
    "axes[1,1].hist(x=\"humidity\",data=train_df,edgecolor=\"black\",linewidth=2,color='#335d40')\n",
    "axes[1,1].set_title(\"Variation of humidity\")\n",
    "fig.set_size_inches(10,10)"
   ]
  },
  {
   "cell_type": "markdown",
   "metadata": {
    "id": "V5foSTFm840J"
   },
   "source": [
    "### Temperature vs Demand"
   ]
  },
  {
   "cell_type": "code",
   "execution_count": null,
   "metadata": {
    "colab": {
     "base_uri": "https://localhost:8080/",
     "height": 542
    },
    "id": "vdjdehQL840J",
    "outputId": "909a7f4f-ace5-41b0-cc7c-0fa3010c7754"
   },
   "outputs": [],
   "source": [
    "plt.figure(figsize=(8,6))\n",
    "sns.scatterplot(data = train_df, x = 'temp', y = 'count');"
   ]
  },
  {
   "cell_type": "markdown",
   "metadata": {
    "id": "_de0dQrP840J"
   },
   "source": [
    "##### Since this is hard to visualze. a better way is to convert the 'temp' variable into intervals or so called bins and then treat it like a discrete variable."
   ]
  },
  {
   "cell_type": "code",
   "execution_count": null,
   "metadata": {
    "colab": {
     "base_uri": "https://localhost:8080/",
     "height": 647
    },
    "id": "CabPmR_k840K",
    "outputId": "8d739635-be18-43fb-b4c1-a31989b4ec68"
   },
   "outputs": [],
   "source": [
    "\n",
    "# Assuming train_df is your DataFrame\n",
    "viz_df = train_df.copy()\n",
    "\n",
    "# Describe the 'temp' column\n",
    "viz_df['temp'].describe()\n",
    "\n",
    "# Create a new column 'temp_bin' with discrete values of 'temp'\n",
    "viz_df['temp_bin'] = np.floor(viz_df['temp'] / 5).astype(int)\n",
    "\n",
    "# Check the unique values in 'temp_bin'\n",
    "print(viz_df['temp_bin'].unique())\n",
    "\n",
    "# Visualize 'temp_bin' against 'count' using seaborn catplot\n",
    "sns.catplot(x=\"temp_bin\", y=\"count\", data=viz_df, kind='bar', height=6, aspect=1.5)\n",
    "plt.xlabel('Temperature Bin')\n",
    "plt.ylabel('Count')\n",
    "plt.title('Count vs. Temperature Bin')\n",
    "plt.show()"
   ]
  },
  {
   "cell_type": "markdown",
   "metadata": {
    "id": "CTTw1m7F840K"
   },
   "source": [
    "Inference - The demand is highest for bins 6 and 7 which is about tempearure  30-35(bin 6) and 35-40 (bin 7)."
   ]
  },
  {
   "cell_type": "markdown",
   "metadata": {
    "id": "Y2O0jC03840K"
   },
   "source": [
    "### Demand vs aTemp"
   ]
  },
  {
   "cell_type": "code",
   "execution_count": null,
   "metadata": {
    "colab": {
     "base_uri": "https://localhost:8080/",
     "height": 542
    },
    "id": "c3EnIT12840K",
    "outputId": "cda0248d-32d3-4cca-e8e0-221c8d4815d3"
   },
   "outputs": [],
   "source": [
    "plt.figure(figsize=(8,6))\n",
    "sns.scatterplot(data = train_df, x = 'atemp', y = 'count');"
   ]
  },
  {
   "cell_type": "code",
   "execution_count": null,
   "metadata": {
    "colab": {
     "base_uri": "https://localhost:8080/",
     "height": 810
    },
    "id": "7vvVmMie840K",
    "outputId": "94b578c9-4160-477a-b82f-e356f3c2af40"
   },
   "outputs": [],
   "source": [
    "# Assuming train_df is your DataFrame\n",
    "viz_df = train_df.copy()\n",
    "\n",
    "# Describe the 'atemp' column\n",
    "print(viz_df['atemp'].describe())\n",
    "\n",
    "# Create a new column 'temp_bin' with discrete values of 'atemp'\n",
    "viz_df['temp_bin'] = np.floor(viz_df['atemp'] / 5).astype(int)\n",
    "\n",
    "# Check the unique values in 'temp_bin'\n",
    "print(viz_df['temp_bin'].unique())\n",
    "\n",
    "# Visualize 'temp_bin' against 'count' using seaborn catplot\n",
    "sns.catplot(x=\"temp_bin\", y=\"count\", data=viz_df, kind='bar', height=6, aspect=1.5)\n",
    "plt.xlabel('Temperature Bin')\n",
    "plt.ylabel('Count')\n",
    "plt.title('Count vs. Temperature Bin')\n",
    "plt.show()"
   ]
  },
  {
   "cell_type": "markdown",
   "metadata": {
    "id": "QU8S2Csi840L"
   },
   "source": [
    "##### Inference  - We can see that this plot is almost similar to the previous plot of temperature and demand which means there is a high correlation between temp and atemp features."
   ]
  },
  {
   "cell_type": "markdown",
   "metadata": {
    "id": "DbrWwQNc840L"
   },
   "source": [
    "### Humidity vs Demand"
   ]
  },
  {
   "cell_type": "code",
   "execution_count": null,
   "metadata": {
    "colab": {
     "base_uri": "https://localhost:8080/",
     "height": 542
    },
    "id": "9FaFgSve840L",
    "outputId": "a29c375e-a361-4d47-b764-af2907a72f2a"
   },
   "outputs": [],
   "source": [
    "plt.figure(figsize=(8,6))\n",
    "sns.scatterplot(data = train_df, x = 'humidity', y='count');"
   ]
  },
  {
   "cell_type": "code",
   "execution_count": null,
   "metadata": {
    "colab": {
     "base_uri": "https://localhost:8080/",
     "height": 810
    },
    "id": "-BQ4K1_z840L",
    "outputId": "d97280ad-11c7-4780-9b7f-89f0d701ca05"
   },
   "outputs": [],
   "source": [
    "# Assuming train_df is your DataFrame\n",
    "viz_df = train_df.copy()\n",
    "\n",
    "# Describe the 'humidity' column\n",
    "print(viz_df['humidity'].describe())\n",
    "\n",
    "# Create a new column 'temp_bin' with discrete values of 'humidity'\n",
    "viz_df['temp_bin'] = np.floor(viz_df['humidity'] / 10).astype(int)\n",
    "\n",
    "# Check the unique values in 'temp_bin'\n",
    "print(viz_df['temp_bin'].unique())\n",
    "\n",
    "# Visualize 'temp_bin' against 'count' using seaborn catplot\n",
    "sns.catplot(x=\"temp_bin\", y=\"count\", data=viz_df, kind='bar', height=6, aspect=1.5)\n",
    "plt.xlabel('Humidity Bin')\n",
    "plt.ylabel('Count')\n",
    "plt.title('Count vs. Humidity Bin')\n",
    "plt.show()"
   ]
  },
  {
   "cell_type": "markdown",
   "metadata": {
    "id": "UpHIRxAf840L"
   },
   "source": [
    "Inference - Humidity is not much correlated to Demand"
   ]
  },
  {
   "cell_type": "markdown",
   "metadata": {
    "id": "4S6iBlkj840L"
   },
   "source": [
    "### Windspeed vs Demand"
   ]
  },
  {
   "cell_type": "code",
   "execution_count": null,
   "metadata": {
    "colab": {
     "base_uri": "https://localhost:8080/",
     "height": 542
    },
    "id": "283Nkmq7840L",
    "outputId": "e2b3bf67-7fba-47bf-b463-34beac309b1b"
   },
   "outputs": [],
   "source": [
    "plt.figure(figsize=(8,6))\n",
    "sns.scatterplot(data = train_df, x = 'windspeed', y='count');"
   ]
  },
  {
   "cell_type": "code",
   "execution_count": null,
   "metadata": {
    "colab": {
     "base_uri": "https://localhost:8080/",
     "height": 810
    },
    "id": "ejJNT3jD840L",
    "outputId": "d208ebb8-a43e-4abf-9678-d60f618549a9"
   },
   "outputs": [],
   "source": [
    "# Assuming train_df is your DataFrame\n",
    "viz_df = train_df.copy()\n",
    "\n",
    "# Describe the 'windspeed' column\n",
    "print(viz_df['windspeed'].describe())\n",
    "\n",
    "# Create a new column 'temp_bin' with discrete values of 'windspeed'\n",
    "viz_df['temp_bin'] = np.floor(viz_df['windspeed'] / 5).astype(int)\n",
    "\n",
    "# Check the unique values in 'temp_bin'\n",
    "print(viz_df['temp_bin'].unique())\n",
    "\n",
    "# Visualize 'temp_bin' against 'count' using seaborn catplot\n",
    "sns.catplot(x=\"temp_bin\", y=\"count\", data=viz_df, kind='bar', height=6, aspect=1.5)\n",
    "plt.xlabel('Windspeed Bin')\n",
    "plt.ylabel('Count')\n",
    "plt.title('Count vs. Windspeed Bin')\n",
    "plt.show()"
   ]
  },
  {
   "cell_type": "markdown",
   "metadata": {
    "id": "T8jkFAYX840M"
   },
   "source": [
    "Inference - Since windspeed has a very low correlation with the demand so it does not affect the demand much."
   ]
  },
  {
   "cell_type": "markdown",
   "metadata": {
    "id": "7Twryxss840M"
   },
   "source": [
    "### Visualization of the Correlation Matrix of continuous features and understanding how it will affect the Target variable"
   ]
  },
  {
   "cell_type": "code",
   "execution_count": null,
   "metadata": {
    "colab": {
     "base_uri": "https://localhost:8080/",
     "height": 682
    },
    "id": "UN_SsPnQ840M",
    "outputId": "2ce0147c-bde4-46bc-de2f-e7f26b0bd715"
   },
   "outputs": [],
   "source": [
    "corrdata = train_df[[\"temp\",\"atemp\",\"humidity\",\"windspeed\",\"count\"]]\n",
    "corrmat = corrdata.corr()\n",
    "plt.figure(figsize=(10,8))\n",
    "sns.heatmap(corrmat, annot = True, cmap= 'winter');"
   ]
  },
  {
   "cell_type": "markdown",
   "metadata": {
    "id": "ul4LF4-v840M"
   },
   "source": [
    "### Visualization of the Correlation Matrix of all the independent features"
   ]
  },
  {
   "cell_type": "code",
   "execution_count": null,
   "metadata": {
    "colab": {
     "base_uri": "https://localhost:8080/",
     "height": 1000
    },
    "id": "NoijWES5840M",
    "outputId": "057966b2-64f2-420d-dde9-1de10b80c483"
   },
   "outputs": [],
   "source": [
    "\n",
    "# Filter out non-numeric columns\n",
    "numeric_df = train_df.select_dtypes(include=[np.number])\n",
    "\n",
    "# Calculate the correlation matrix\n",
    "cor_mat = numeric_df.corr()\n",
    "\n",
    "# Create a mask for the upper triangle\n",
    "mask = np.triu(np.ones_like(cor_mat, dtype=bool))\n",
    "\n",
    "# Set up the matplotlib figure\n",
    "fig, ax = plt.subplots(figsize=(30, 12))\n",
    "\n",
    "# Draw the heatmap with the mask and correct aspect ratio\n",
    "sns.heatmap(cor_mat, mask=mask, square=True, annot=True, cbar=True, ax=ax)\n",
    "\n",
    "# Display the heatmap\n",
    "plt.show()"
   ]
  },
  {
   "cell_type": "markdown",
   "metadata": {
    "id": "DqP5rVWt840M"
   },
   "source": [
    "## Data Preprocessing"
   ]
  },
  {
   "cell_type": "code",
   "execution_count": null,
   "metadata": {
    "colab": {
     "base_uri": "https://localhost:8080/",
     "height": 423
    },
    "id": "0Wosa-ht840M",
    "outputId": "583c5bd2-5dbc-4851-bca4-a07e0bcf2bb1"
   },
   "outputs": [],
   "source": [
    "train_df"
   ]
  },
  {
   "cell_type": "code",
   "execution_count": null,
   "metadata": {
    "id": "OcKsJP7d840N"
   },
   "outputs": [],
   "source": [
    "train_df[\"year\"] = pd.to_numeric(train_df[\"year\"])"
   ]
  },
  {
   "cell_type": "markdown",
   "metadata": {
    "id": "Ou2GKVFn840N"
   },
   "source": [
    "### Performing One Hot Encoding on categorical features"
   ]
  },
  {
   "cell_type": "code",
   "execution_count": null,
   "metadata": {
    "id": "ZvBo2ZbE840N"
   },
   "outputs": [],
   "source": [
    "season = pd.get_dummies(train_df['season'],prefix='season',drop_first=True)\n",
    "weather = pd.get_dummies(train_df['weather'],prefix='weather',drop_first=True)\n",
    "holiday = pd.get_dummies(train_df['holiday'],prefix='holiday',drop_first=True)\n",
    "month = pd.get_dummies(train_df['month'],prefix='month',drop_first=True)\n",
    "hour = pd.get_dummies(train_df['hour'],prefix='hour',drop_first=True)\n",
    "train_df = pd.concat([train_df,season,weather,holiday,month,hour],axis=1)\n",
    "train_df.drop(['season','weather','holiday','month','hour'], axis=1,inplace=True)"
   ]
  },
  {
   "cell_type": "code",
   "execution_count": null,
   "metadata": {
    "colab": {
     "base_uri": "https://localhost:8080/",
     "height": 451
    },
    "id": "MThG9Vn8840N",
    "outputId": "a6c79e9c-f955-4c56-8448-601e7cb860eb"
   },
   "outputs": [],
   "source": [
    "pd.set_option('display.max_columns',52)\n",
    "train_df.head()"
   ]
  },
  {
   "cell_type": "markdown",
   "metadata": {
    "id": "bkBVsoCI840N"
   },
   "source": [
    "### Dropping the features with low correlation"
   ]
  },
  {
   "cell_type": "code",
   "execution_count": null,
   "metadata": {
    "id": "7a-bNH8o840N"
   },
   "outputs": [],
   "source": [
    "train_df.drop(['date','day of the week','year','windspeed','workingday'], axis=1, inplace=True)"
   ]
  },
  {
   "cell_type": "code",
   "execution_count": null,
   "metadata": {
    "colab": {
     "base_uri": "https://localhost:8080/",
     "height": 226
    },
    "id": "2MxL1r4I840N",
    "outputId": "29cec02d-d68a-4425-bcae-d93a491a6847"
   },
   "outputs": [],
   "source": [
    "train_df.head()"
   ]
  },
  {
   "cell_type": "code",
   "execution_count": null,
   "metadata": {
    "colab": {
     "base_uri": "https://localhost:8080/"
    },
    "id": "GNqF8XCR840O",
    "outputId": "ae352071-cdee-4d7f-f89a-a5e4436cc02f"
   },
   "outputs": [],
   "source": [
    "train_df.columns.to_series().groupby(train_df.dtypes).groups"
   ]
  },
  {
   "cell_type": "code",
   "execution_count": null,
   "metadata": {
    "colab": {
     "base_uri": "https://localhost:8080/"
    },
    "id": "CsoI1U6R840O",
    "outputId": "ba01b50f-429d-4768-82e7-ae5861d95876"
   },
   "outputs": [],
   "source": [
    "train_df.dtypes"
   ]
  },
  {
   "cell_type": "markdown",
   "metadata": {
    "id": "VZFBbyCY840O"
   },
   "source": [
    "### Visualization of the Correlation Matrix of the preprocessed data"
   ]
  },
  {
   "cell_type": "code",
   "execution_count": null,
   "metadata": {
    "colab": {
     "base_uri": "https://localhost:8080/",
     "height": 1000
    },
    "id": "x1mKuezR840O",
    "outputId": "9db5ba4a-3f26-4050-c747-e5109b7afb67"
   },
   "outputs": [],
   "source": [
    "cor_mat= train_df[:].corr()\n",
    "mask = np.array(cor_mat)\n",
    "mask[np.tril_indices_from(mask)] = False\n",
    "fig=plt.gcf()\n",
    "fig.set_size_inches(50,50)\n",
    "sns.heatmap(data=cor_mat,mask=mask,square=True,annot=True,cbar=True)"
   ]
  },
  {
   "cell_type": "markdown",
   "metadata": {
    "id": "r2mqjWBZ840O"
   },
   "source": [
    "### Splitting the data"
   ]
  },
  {
   "cell_type": "code",
   "execution_count": null,
   "metadata": {
    "id": "QoRYbOWl840O"
   },
   "outputs": [],
   "source": [
    "X = train_df.drop('count',axis=1)"
   ]
  },
  {
   "cell_type": "code",
   "execution_count": null,
   "metadata": {
    "colab": {
     "base_uri": "https://localhost:8080/"
    },
    "id": "NbduUxhP840O",
    "outputId": "cc803af0-175d-4cb3-cf25-caace396441f"
   },
   "outputs": [],
   "source": [
    "X.shape"
   ]
  },
  {
   "cell_type": "code",
   "execution_count": null,
   "metadata": {
    "id": "m_Mw_YL1840O"
   },
   "outputs": [],
   "source": [
    "y = np.log(train_df['count'])"
   ]
  },
  {
   "cell_type": "code",
   "execution_count": null,
   "metadata": {
    "colab": {
     "base_uri": "https://localhost:8080/"
    },
    "id": "Y3NurXj4840P",
    "outputId": "a31b5cbb-9231-472a-93a1-e5159ea96a38"
   },
   "outputs": [],
   "source": [
    "y.shape"
   ]
  },
  {
   "cell_type": "code",
   "execution_count": null,
   "metadata": {
    "id": "rkQNL3hz840P"
   },
   "outputs": [],
   "source": [
    "from sklearn.model_selection import train_test_split"
   ]
  },
  {
   "cell_type": "code",
   "execution_count": null,
   "metadata": {
    "id": "P9me_yRs840P"
   },
   "outputs": [],
   "source": [
    "X_train,X_test,y_train,y_test = train_test_split(X,y, test_size = 0.2)"
   ]
  },
  {
   "cell_type": "markdown",
   "metadata": {
    "id": "IXswUF44840P"
   },
   "source": [
    "### Using Linear Regression"
   ]
  },
  {
   "cell_type": "code",
   "execution_count": null,
   "metadata": {
    "id": "mYl7Wjxq840P"
   },
   "outputs": [],
   "source": [
    "from sklearn.linear_model import LinearRegression"
   ]
  },
  {
   "cell_type": "code",
   "execution_count": null,
   "metadata": {
    "id": "UxaZ-WkJ840P"
   },
   "outputs": [],
   "source": [
    "linear_rg = LinearRegression()"
   ]
  },
  {
   "cell_type": "code",
   "execution_count": null,
   "metadata": {
    "colab": {
     "base_uri": "https://localhost:8080/",
     "height": 74
    },
    "id": "yYo6fJ6H840P",
    "outputId": "8697e942-6817-4fc3-ce45-bc14412aa89c"
   },
   "outputs": [],
   "source": [
    "linear_rg.fit(X_train,y_train)"
   ]
  },
  {
   "cell_type": "code",
   "execution_count": null,
   "metadata": {
    "id": "-D-VDtCH840P"
   },
   "outputs": [],
   "source": [
    "preds1 = linear_rg.predict(X_test)"
   ]
  },
  {
   "cell_type": "code",
   "execution_count": null,
   "metadata": {
    "colab": {
     "base_uri": "https://localhost:8080/"
    },
    "id": "3j-hOCna840Q",
    "outputId": "4c7e2468-1529-4f80-d25c-a13b36c8389b"
   },
   "outputs": [],
   "source": [
    "preds1"
   ]
  },
  {
   "cell_type": "code",
   "execution_count": null,
   "metadata": {
    "id": "Bm5w018t840Q"
   },
   "outputs": [],
   "source": [
    "from sklearn import metrics"
   ]
  },
  {
   "cell_type": "code",
   "execution_count": null,
   "metadata": {
    "colab": {
     "base_uri": "https://localhost:8080/",
     "height": 739
    },
    "id": "cufjn8iv840Q",
    "outputId": "5d7541ef-aa9e-4c9a-d072-6c57691cec5b"
   },
   "outputs": [],
   "source": [
    "r2_score = metrics.r2_score(y_test,preds1)\n",
    "print('r2_score is:{}'.format(r2_score))\n",
    "\n",
    "print('MAE:',metrics.mean_absolute_error(y_test,preds1))\n",
    "print('MSE:',metrics.mean_squared_error(y_test,preds1))\n",
    "print('RMSE:',np.sqrt(metrics.mean_squared_error(y_test,preds1)))\n",
    "sns.distplot(y_test-preds1)"
   ]
  },
  {
   "cell_type": "markdown",
   "metadata": {
    "id": "Ja3c7dvP840Q"
   },
   "source": [
    "#### Accuracy - 86.55%"
   ]
  },
  {
   "cell_type": "markdown",
   "metadata": {
    "id": "kuYLjt81840Q"
   },
   "source": [
    "### Using Decision Tree"
   ]
  },
  {
   "cell_type": "code",
   "execution_count": null,
   "metadata": {
    "id": "XASMSqKa840Q"
   },
   "outputs": [],
   "source": [
    "from sklearn.tree import DecisionTreeRegressor"
   ]
  },
  {
   "cell_type": "code",
   "execution_count": null,
   "metadata": {
    "id": "8yNJj3d-840R"
   },
   "outputs": [],
   "source": [
    "dt_rg = DecisionTreeRegressor(max_depth=5)"
   ]
  },
  {
   "cell_type": "code",
   "execution_count": null,
   "metadata": {
    "colab": {
     "base_uri": "https://localhost:8080/",
     "height": 74
    },
    "id": "RiolkYlF840R",
    "outputId": "cb1031e2-257f-4d93-ff98-62ff16ad046f"
   },
   "outputs": [],
   "source": [
    "dt_rg.fit(X_train,y_train)"
   ]
  },
  {
   "cell_type": "code",
   "execution_count": null,
   "metadata": {
    "id": "G1kwOVnZ840R"
   },
   "outputs": [],
   "source": [
    "preds2 = dt_rg.predict(X_test)"
   ]
  },
  {
   "cell_type": "code",
   "execution_count": null,
   "metadata": {
    "colab": {
     "base_uri": "https://localhost:8080/"
    },
    "id": "OZu2KZrG840R",
    "outputId": "d5489be8-3bb7-456f-b674-6692a48ada96"
   },
   "outputs": [],
   "source": [
    "preds2"
   ]
  },
  {
   "cell_type": "code",
   "execution_count": null,
   "metadata": {
    "colab": {
     "base_uri": "https://localhost:8080/",
     "height": 739
    },
    "id": "w5SUKQVb840R",
    "outputId": "29517080-8359-4204-f47f-81d72b725a35"
   },
   "outputs": [],
   "source": [
    "r2_score = metrics.r2_score(y_test,preds2)\n",
    "print('r2_score is:{}'.format(r2_score))\n",
    "\n",
    "print('MAE:',metrics.mean_absolute_error(y_test,preds2))\n",
    "print('MSE:',metrics.mean_squared_error(y_test,preds2))\n",
    "print('RMSE:',np.sqrt(metrics.mean_squared_error(y_test,preds2)))\n",
    "sns.distplot(y_test-preds2)"
   ]
  },
  {
   "cell_type": "markdown",
   "metadata": {
    "id": "gLR2-aez840R"
   },
   "source": [
    "#### Accuracy -  99.03%"
   ]
  },
  {
   "cell_type": "markdown",
   "metadata": {
    "id": "exzishfD840R"
   },
   "source": [
    "### Using Hypertuned KNN"
   ]
  },
  {
   "cell_type": "code",
   "execution_count": null,
   "metadata": {
    "id": "AAXLqc9C840S"
   },
   "outputs": [],
   "source": [
    "from sklearn.neighbors import KNeighborsRegressor\n",
    "from sklearn.model_selection import GridSearchCV"
   ]
  },
  {
   "cell_type": "code",
   "execution_count": null,
   "metadata": {
    "id": "jVWgVxYT840S"
   },
   "outputs": [],
   "source": [
    "n_neighbors=[]\n",
    "for i in range (0,50,5):\n",
    "    if(i!=0):\n",
    "        n_neighbors.append(i)\n",
    "params_dict={'n_neighbors':n_neighbors,'n_jobs':[-1]}\n",
    "clf_knn = GridSearchCV(estimator=KNeighborsRegressor(),param_grid=params_dict,scoring='neg_mean_squared_log_error')\n",
    "clf_knn.fit(X_train,y_train)\n",
    "preds3 = clf_knn.predict(X_test)"
   ]
  },
  {
   "cell_type": "code",
   "execution_count": null,
   "metadata": {
    "colab": {
     "base_uri": "https://localhost:8080/"
    },
    "id": "YnOTugus840S",
    "outputId": "0e2f3e44-df42-4968-f526-fb8c2062649a"
   },
   "outputs": [],
   "source": [
    "preds3"
   ]
  },
  {
   "cell_type": "code",
   "execution_count": null,
   "metadata": {
    "colab": {
     "base_uri": "https://localhost:8080/",
     "height": 739
    },
    "id": "d-S_H0v8840S",
    "outputId": "1eb22281-bbe4-4ed7-b152-6a79a23cd49c",
    "scrolled": true
   },
   "outputs": [],
   "source": [
    "r2_score = metrics.r2_score(y_test,preds3)\n",
    "print('r2_score is:{}'.format(r2_score))\n",
    "\n",
    "print('MAE:',metrics.mean_absolute_error(y_test,preds3))\n",
    "print('MSE:',metrics.mean_squared_error(y_test,preds3))\n",
    "print('RMSE:',np.sqrt(metrics.mean_squared_error(y_test,preds3)))\n",
    "sns.distplot(y_test-preds3)"
   ]
  },
  {
   "cell_type": "markdown",
   "metadata": {
    "id": "CKy1iHxx840S"
   },
   "source": [
    "#### Accuracy - 99.32%"
   ]
  },
  {
   "cell_type": "markdown",
   "metadata": {
    "id": "i3FGgiMt840S"
   },
   "source": [
    "### Using Hypertuned Random Forest"
   ]
  },
  {
   "cell_type": "code",
   "execution_count": null,
   "metadata": {
    "id": "kOgFDeVa840S"
   },
   "outputs": [],
   "source": [
    "from sklearn.ensemble import RandomForestRegressor"
   ]
  },
  {
   "cell_type": "code",
   "execution_count": null,
   "metadata": {
    "colab": {
     "base_uri": "https://localhost:8080/"
    },
    "id": "G-R_4gf2840T",
    "outputId": "a630e35f-5fdb-46f5-9c8a-4dbc53394414"
   },
   "outputs": [],
   "source": [
    "no_of_test=[500]\n",
    "params_dict={'n_estimators':no_of_test,'n_jobs':[-1],'max_features':[\"auto\",'sqrt','log2']}\n",
    "clf_rf = GridSearchCV(estimator=RandomForestRegressor(),param_grid=params_dict,scoring='neg_mean_squared_log_error')\n",
    "clf_rf.fit(X_train,y_train)\n",
    "preds4 = clf_rf.predict(X_test)"
   ]
  },
  {
   "cell_type": "code",
   "execution_count": null,
   "metadata": {
    "colab": {
     "base_uri": "https://localhost:8080/"
    },
    "id": "KJWQjhi0840T",
    "outputId": "ddac6e65-8237-4f94-b42a-4d026fe12c6e"
   },
   "outputs": [],
   "source": [
    "preds4"
   ]
  },
  {
   "cell_type": "code",
   "execution_count": null,
   "metadata": {
    "colab": {
     "base_uri": "https://localhost:8080/",
     "height": 739
    },
    "id": "rJvAx4U5840T",
    "outputId": "3b556f51-7eee-4b48-ebf4-badd263287a7"
   },
   "outputs": [],
   "source": [
    "r2_score = metrics.r2_score(y_test,preds4)\n",
    "print('r2_score is:{}'.format(r2_score))\n",
    "\n",
    "print('MAE:',metrics.mean_absolute_error(y_test,preds4))\n",
    "print('MSE:',metrics.mean_squared_error(y_test,preds4))\n",
    "print('RMSE:',np.sqrt(metrics.mean_squared_error(y_test,preds4)))\n",
    "sns.distplot(y_test-preds4)"
   ]
  },
  {
   "cell_type": "markdown",
   "metadata": {
    "id": "N_W1mX5j840T"
   },
   "source": [
    "#### Accuracy - 99.995%"
   ]
  },
  {
   "cell_type": "markdown",
   "metadata": {
    "id": "5bxdCija840T"
   },
   "source": [
    "### Using Hypertuned XGBoost"
   ]
  },
  {
   "cell_type": "code",
   "execution_count": null,
   "metadata": {
    "id": "cN5foBpE840T"
   },
   "outputs": [],
   "source": [
    "import xgboost as xgb\n",
    "from xgboost import XGBRegressor\n",
    "from sklearn.metrics import mean_squared_error\n",
    "from sklearn.metrics import mean_absolute_error"
   ]
  },
  {
   "cell_type": "code",
   "execution_count": null,
   "metadata": {
    "id": "UHLgwHg_840T"
   },
   "outputs": [],
   "source": [
    "def hyperParameterTuning(X_train, y_train):\n",
    "    param_tuning = {\n",
    "        'learning_rate': [0.01, 0.1],\n",
    "        'max_depth': [3, 5, 7, 10],\n",
    "        'min_child_weight': [1, 3, 5],\n",
    "        'subsample': [0.5, 0.7],\n",
    "        'colsample_bytree': [0.5, 0.7],\n",
    "        'n_estimators' : [100, 200, 500],\n",
    "        'objective': ['reg:squarederror']\n",
    "    }\n",
    "    XGB = XGBRegressor()\n",
    "\n",
    "    gridsearch = GridSearchCV(estimator = XGB,\n",
    "                           param_grid = param_tuning,\n",
    "                           cv = 5,\n",
    "                           n_jobs = -1,\n",
    "                           verbose = 1)\n",
    "\n",
    "    gridsearch.fit(X_train,y_train)\n",
    "\n",
    "    return gridsearch.best_params"
   ]
  },
  {
   "cell_type": "code",
   "execution_count": null,
   "metadata": {
    "colab": {
     "base_uri": "https://localhost:8080/",
     "height": 304
    },
    "id": "JJ5DTDx0840T",
    "outputId": "d1e94386-0489-4b91-fef0-ef9dd00abf4c"
   },
   "outputs": [],
   "source": [
    "XGB = XGBRegressor(\n",
    "        objective = 'reg:squarederror',\n",
    "        colsample_bytree = 0.5,\n",
    "        learning_rate = 0.05,\n",
    "        max_depth = 6,\n",
    "        min_child_weight = 1,\n",
    "        n_estimators = 1000,\n",
    "        subsample = 0.7)\n",
    "\n",
    "XGB.fit(X_train, y_train, early_stopping_rounds=5, eval_set=[(X_test, y_test),(X_test,y_test)], verbose=False)"
   ]
  },
  {
   "cell_type": "code",
   "execution_count": null,
   "metadata": {
    "id": "8mdvMtf0840U"
   },
   "outputs": [],
   "source": [
    "preds5 = XGB.predict(X_test)"
   ]
  },
  {
   "cell_type": "code",
   "execution_count": null,
   "metadata": {
    "colab": {
     "base_uri": "https://localhost:8080/"
    },
    "id": "deOTu9-l840U",
    "outputId": "b36aea88-b762-4a13-8c0f-aa4ca17b3dbd"
   },
   "outputs": [],
   "source": [
    "preds5"
   ]
  },
  {
   "cell_type": "code",
   "execution_count": null,
   "metadata": {
    "colab": {
     "base_uri": "https://localhost:8080/",
     "height": 739
    },
    "id": "zFmjeyr0840U",
    "outputId": "326b2a1e-2309-4f9f-8377-c1ce227f425e"
   },
   "outputs": [],
   "source": [
    "r2_score = metrics.r2_score(y_test,preds5)\n",
    "print('r2_score is:{}'.format(r2_score))\n",
    "\n",
    "print('MAE:',metrics.mean_absolute_error(y_test,preds5))\n",
    "print('MSE:',metrics.mean_squared_error(y_test,preds5))\n",
    "print('RMSE:',np.sqrt(metrics.mean_squared_error(y_test,preds5)))\n",
    "sns.distplot(y_test-preds3)"
   ]
  },
  {
   "cell_type": "markdown",
   "metadata": {
    "id": "fFY-AOGS840U"
   },
   "source": [
    "#### Accuracy - 99.97%"
   ]
  },
  {
   "cell_type": "markdown",
   "metadata": {
    "id": "RcafJXOX840U"
   },
   "source": [
    "## After performing the model comparative analysis we can conclude that almost all the models had an accuracy above 99% except the Linear Regressor. The Hypertuned Random Forest Regressor gave best result with 99.995% accuracy"
   ]
  },
  {
   "cell_type": "markdown",
   "metadata": {
    "id": "RYNp1Y9u840U"
   },
   "source": [
    "### Saving the Hypertuned Random Forest Regressor and XGBoost Regressor models to get predictions from the test set."
   ]
  }
 ],
 "metadata": {
  "colab": {
   "provenance": []
  },
  "kernelspec": {
   "display_name": "Python 3 (ipykernel)",
   "language": "python",
   "name": "python3"
  },
  "language_info": {
   "codemirror_mode": {
    "name": "ipython",
    "version": 3
   },
   "file_extension": ".py",
   "mimetype": "text/x-python",
   "name": "python",
   "nbconvert_exporter": "python",
   "pygments_lexer": "ipython3",
   "version": "3.12.7"
  }
 },
 "nbformat": 4,
 "nbformat_minor": 4
}
